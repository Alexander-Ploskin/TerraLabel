{
 "cells": [
  {
   "cell_type": "code",
   "execution_count": 1,
   "metadata": {
    "id": "CJ4zsGf-ZJWB"
   },
   "outputs": [
    {
     "name": "stderr",
     "output_type": "stream",
     "text": [
      "/home/a-ploskin/repos/TerraLabel/venv/lib/python3.12/site-packages/tqdm/auto.py:21: TqdmWarning: IProgress not found. Please update jupyter and ipywidgets. See https://ipywidgets.readthedocs.io/en/stable/user_install.html\n",
      "  from .autonotebook import tqdm as notebook_tqdm\n"
     ]
    }
   ],
   "source": [
    "import torch\n",
    "from evaluate import load\n",
    "\n",
    "from pathlib import Path\n",
    "from transformers import SegformerImageProcessor\n",
    "from transformers import SegformerForSemanticSegmentation\n",
    "\n",
    "from tqdm import tqdm\n",
    "\n",
    "from torch.utils.data import DataLoader\n",
    "from torch.utils.tensorboard import SummaryWriter\n",
    "\n",
    "import sys\n",
    "sys.path.append('..')\n",
    "\n",
    "from training.dataset import SemanticSegmentationDataset"
   ]
  },
  {
   "cell_type": "code",
   "execution_count": 2,
   "metadata": {},
   "outputs": [
    {
     "name": "stderr",
     "output_type": "stream",
     "text": [
      "Some weights of SegformerForSemanticSegmentation were not initialized from the model checkpoint at nvidia/mit-b0 and are newly initialized: ['decode_head.batch_norm.bias', 'decode_head.batch_norm.num_batches_tracked', 'decode_head.batch_norm.running_mean', 'decode_head.batch_norm.running_var', 'decode_head.batch_norm.weight', 'decode_head.classifier.bias', 'decode_head.classifier.weight', 'decode_head.linear_c.0.proj.bias', 'decode_head.linear_c.0.proj.weight', 'decode_head.linear_c.1.proj.bias', 'decode_head.linear_c.1.proj.weight', 'decode_head.linear_c.2.proj.bias', 'decode_head.linear_c.2.proj.weight', 'decode_head.linear_c.3.proj.bias', 'decode_head.linear_c.3.proj.weight', 'decode_head.linear_fuse.weight']\n",
      "You should probably TRAIN this model on a down-stream task to be able to use it for predictions and inference.\n"
     ]
    }
   ],
   "source": [
    "idx2label = ['Barren', 'Forest', 'Agriculture', 'Road', 'Building', 'Water']\n",
    "\n",
    "processor = SegformerImageProcessor(reduce_labels=True)\n",
    "model = SegformerForSemanticSegmentation.from_pretrained(\"nvidia/mit-b0\", num_labels=len(idx2label))"
   ]
  },
  {
   "cell_type": "code",
   "execution_count": 3,
   "metadata": {},
   "outputs": [],
   "source": [
    "img_dir = '/home/a-ploskin/repos/TerraLabel/data/task_0/data'\n",
    "masks_dir = '/home/a-ploskin/repos/TerraLabel/data/masks'\n",
    "\n",
    "train_ds, eval_ds = SemanticSegmentationDataset.get_train_and_eval_datasets(\n",
    "    processor, img_dir, masks_dir\n",
    ")"
   ]
  },
  {
   "cell_type": "code",
   "execution_count": 4,
   "metadata": {
    "id": "sj5XUbUh_XSq"
   },
   "outputs": [],
   "source": [
    "BATCH_SIZE = 8\n",
    "\n",
    "train_loader = DataLoader(train_ds, batch_size=BATCH_SIZE, shuffle=True)\n",
    "test_loader = DataLoader(eval_ds, batch_size=BATCH_SIZE, shuffle=False)"
   ]
  },
  {
   "cell_type": "code",
   "execution_count": 5,
   "metadata": {
    "colab": {
     "base_uri": "https://localhost:8080/"
    },
    "id": "fJQYyqOFAsDg",
    "outputId": "4a0970a6-e7f8-4351-9d1b-ecf774f29868"
   },
   "outputs": [
    {
     "name": "stdout",
     "output_type": "stream",
     "text": [
      "Device: cuda:1\n"
     ]
    }
   ],
   "source": [
    "LR = 0.00006\n",
    "\n",
    "bias_params = [p for name, p in model.named_parameters() if 'bias' in name]\n",
    "others = [p for name, p in model.named_parameters() if 'bias' not in name]\n",
    "\n",
    "optimizer = torch.optim.AdamW(\n",
    "    [{'params': others},\n",
    "    {'params': bias_params, 'weight_decay': 0}],\n",
    "    lr=LR\n",
    ")\n",
    "device = torch.device(\"cuda\" if torch.cuda.is_available() else \"cpu\")\n",
    "device = 'cuda:1'\n",
    "print(f\"Device: {device}\")\n",
    "model.to(device)\n",
    "\n",
    "log_path = './logs'\n",
    "writer = SummaryWriter(log_path)\n",
    "metric = load(\"mean_iou\")"
   ]
  },
  {
   "cell_type": "code",
   "execution_count": 6,
   "metadata": {
    "id": "rf-EHBgcGG8C"
   },
   "outputs": [],
   "source": [
    "@torch.no_grad()\n",
    "def eval_epoch(model, val_loader, writer, metric, device):\n",
    "    epoch_loss = []\n",
    "\n",
    "    model.eval()\n",
    "\n",
    "    for batch in val_loader:\n",
    "        pixel_values = batch[\"pixel_values\"].to(device)\n",
    "        labels = batch[\"labels\"].to(device)\n",
    "\n",
    "        outputs = model(pixel_values=pixel_values, labels=labels)\n",
    "        loss, logits = outputs.loss, outputs.logits\n",
    "\n",
    "        epoch_loss.append(outputs.loss.cpu().item())\n",
    "\n",
    "        upsampled_logits = torch.nn.functional.interpolate(logits, size=labels.shape[-2:], mode=\"bilinear\", align_corners=False)\n",
    "        predicted = upsampled_logits.argmax(dim=1)\n",
    "        metric.add_batch(predictions=predicted.detach().cpu().numpy(), references=labels.detach().cpu().numpy())\n",
    "\n",
    "    metrics = metric.compute(\n",
    "        num_labels=6,\n",
    "        ignore_index=255,\n",
    "        reduce_labels=False, # we've already reduced the labels before)\n",
    "    )\n",
    "\n",
    "    return sum(epoch_loss) / len(val_loader), metrics[\"mean_iou\"], metrics[\"mean_accuracy\"]\n",
    "\n",
    "def train_epoch(model, optimizer, train_loader, writer, epoch, device):\n",
    "    train_loss_iter = []\n",
    "    epoch_loss = []\n",
    "\n",
    "    model.train()\n",
    "\n",
    "    for idx, batch in enumerate(train_loader):\n",
    "        pixel_values = batch[\"pixel_values\"].to(device)\n",
    "        labels = batch[\"labels\"].to(device)\n",
    "\n",
    "        optimizer.zero_grad()\n",
    "\n",
    "        outputs = model(pixel_values=pixel_values, labels=labels)\n",
    "        loss, logits = outputs.loss, outputs.logits\n",
    "\n",
    "        loss.backward()\n",
    "        optimizer.step()\n",
    "\n",
    "        train_loss_iter.append(loss.detach().cpu().item())\n",
    "        epoch_loss.append(loss.detach().cpu().item())\n",
    "\n",
    "        writer.add_scalar(\"Train/loss_step\", train_loss_iter[-1], idx + epoch * len(train_loader))\n",
    "        writer.add_scalar(\"Train/epoch\", epoch + 1, idx + epoch * len(train_loader))\n",
    "\n",
    "    return train_loss_iter, sum(epoch_loss) / len(epoch_loss)\n",
    "\n",
    "def train(model, optimizer, train_loader, val_loader, writer, metric, device):\n",
    "    train_loss_iter = []\n",
    "    train_loss_epoch = []\n",
    "\n",
    "    eval_iou = []\n",
    "    eval_acc = []\n",
    "    eval_loss = []\n",
    "\n",
    "    for epoch in tqdm(range(30)):\n",
    "        print(\"Epoch: \", epoch)\n",
    "\n",
    "        cur_train_loss_iter, train_epoch_loss = train_epoch(model, optimizer, train_loader, writer, epoch, device)\n",
    "\n",
    "        train_loss_iter += cur_train_loss_iter\n",
    "        train_loss_epoch.append(train_epoch_loss)\n",
    "\n",
    "        writer.add_scalar(\"Train/loss_epoch\", train_loss_epoch[-1], epoch + 1)\n",
    "\n",
    "        val_epoch_loss, iou, acc = eval_epoch(model, val_loader, writer, metric, device)\n",
    "\n",
    "        eval_iou.append(iou)\n",
    "        eval_acc.append(acc)\n",
    "        eval_loss.append(val_epoch_loss)\n",
    "\n",
    "        writer.add_scalar(\"Eval/IoU\", iou, epoch + 1)\n",
    "        writer.add_scalar(\"Eval/Accuracy\", acc, epoch + 1)\n",
    "        writer.add_scalar(\"Eval/loss\", eval_loss[-1], epoch + 1)\n",
    "\n",
    "        print(\"Mean_iou:\", iou)\n",
    "        print(\"Mean accuracy:\", acc)\n",
    "        print(\"Loss:\", train_loss_epoch[-1])\n",
    "\n",
    "\n",
    "    return train_loss_iter, train_loss_epoch, eval_iou, eval_acc, eval_loss"
   ]
  },
  {
   "cell_type": "code",
   "execution_count": 7,
   "metadata": {
    "colab": {
     "base_uri": "https://localhost:8080/"
    },
    "id": "CvEUl5yKPrsP",
    "outputId": "9748ef95-50f7-42cb-f804-1c5a9b0fa9c8"
   },
   "outputs": [
    {
     "name": "stderr",
     "output_type": "stream",
     "text": [
      "  0%|          | 0/30 [00:00<?, ?it/s]"
     ]
    },
    {
     "name": "stdout",
     "output_type": "stream",
     "text": [
      "Epoch:  0\n"
     ]
    },
    {
     "name": "stderr",
     "output_type": "stream",
     "text": [
      "/home/a-ploskin/repos/TerraLabel/venv/lib/python3.12/site-packages/datasets/features/image.py:348: UserWarning: Downcasting array dtype int64 to int32 to be compatible with 'Pillow'\n",
      "  warnings.warn(f\"Downcasting array dtype {dtype} to {dest_dtype} to be compatible with 'Pillow'\")\n",
      "  3%|▎         | 1/30 [00:28<13:48, 28.56s/it]"
     ]
    },
    {
     "name": "stdout",
     "output_type": "stream",
     "text": [
      "Mean_iou: 0.19283736428224366\n",
      "Mean accuracy: 0.35439416703225385\n",
      "Loss: 1.756628155708313\n",
      "Epoch:  1\n"
     ]
    },
    {
     "name": "stderr",
     "output_type": "stream",
     "text": [
      "  3%|▎         | 1/30 [00:42<20:38, 42.72s/it]\n"
     ]
    },
    {
     "ename": "KeyboardInterrupt",
     "evalue": "",
     "output_type": "error",
     "traceback": [
      "\u001b[0;31m---------------------------------------------------------------------------\u001b[0m",
      "\u001b[0;31mKeyboardInterrupt\u001b[0m                         Traceback (most recent call last)",
      "Cell \u001b[0;32mIn[7], line 1\u001b[0m\n\u001b[0;32m----> 1\u001b[0m train_loss_iter, train_loss_epoch, eval_iou, eval_acc, eval_loss \u001b[38;5;241m=\u001b[39m \u001b[43mtrain\u001b[49m\u001b[43m(\u001b[49m\u001b[43mmodel\u001b[49m\u001b[43m,\u001b[49m\u001b[43m \u001b[49m\u001b[43moptimizer\u001b[49m\u001b[43m,\u001b[49m\u001b[43m \u001b[49m\u001b[43mtrain_loader\u001b[49m\u001b[43m,\u001b[49m\u001b[43m \u001b[49m\u001b[43mtest_loader\u001b[49m\u001b[43m,\u001b[49m\u001b[43m \u001b[49m\u001b[43mwriter\u001b[49m\u001b[43m,\u001b[49m\u001b[43m \u001b[49m\u001b[43mmetric\u001b[49m\u001b[43m,\u001b[49m\u001b[43m \u001b[49m\u001b[43mdevice\u001b[49m\u001b[43m)\u001b[49m\n",
      "Cell \u001b[0;32mIn[6], line 65\u001b[0m, in \u001b[0;36mtrain\u001b[0;34m(model, optimizer, train_loader, val_loader, writer, metric, device)\u001b[0m\n\u001b[1;32m     62\u001b[0m \u001b[38;5;28;01mfor\u001b[39;00m epoch \u001b[38;5;129;01min\u001b[39;00m tqdm(\u001b[38;5;28mrange\u001b[39m(\u001b[38;5;241m30\u001b[39m)):\n\u001b[1;32m     63\u001b[0m     \u001b[38;5;28mprint\u001b[39m(\u001b[38;5;124m\"\u001b[39m\u001b[38;5;124mEpoch: \u001b[39m\u001b[38;5;124m\"\u001b[39m, epoch)\n\u001b[0;32m---> 65\u001b[0m     cur_train_loss_iter, train_epoch_loss \u001b[38;5;241m=\u001b[39m \u001b[43mtrain_epoch\u001b[49m\u001b[43m(\u001b[49m\u001b[43mmodel\u001b[49m\u001b[43m,\u001b[49m\u001b[43m \u001b[49m\u001b[43moptimizer\u001b[49m\u001b[43m,\u001b[49m\u001b[43m \u001b[49m\u001b[43mtrain_loader\u001b[49m\u001b[43m,\u001b[49m\u001b[43m \u001b[49m\u001b[43mwriter\u001b[49m\u001b[43m,\u001b[49m\u001b[43m \u001b[49m\u001b[43mepoch\u001b[49m\u001b[43m,\u001b[49m\u001b[43m \u001b[49m\u001b[43mdevice\u001b[49m\u001b[43m)\u001b[49m\n\u001b[1;32m     67\u001b[0m     train_loss_iter \u001b[38;5;241m+\u001b[39m\u001b[38;5;241m=\u001b[39m cur_train_loss_iter\n\u001b[1;32m     68\u001b[0m     train_loss_epoch\u001b[38;5;241m.\u001b[39mappend(train_epoch_loss)\n",
      "Cell \u001b[0;32mIn[6], line 46\u001b[0m, in \u001b[0;36mtrain_epoch\u001b[0;34m(model, optimizer, train_loader, writer, epoch, device)\u001b[0m\n\u001b[1;32m     43\u001b[0m loss\u001b[38;5;241m.\u001b[39mbackward()\n\u001b[1;32m     44\u001b[0m optimizer\u001b[38;5;241m.\u001b[39mstep()\n\u001b[0;32m---> 46\u001b[0m train_loss_iter\u001b[38;5;241m.\u001b[39mappend(\u001b[43mloss\u001b[49m\u001b[38;5;241;43m.\u001b[39;49m\u001b[43mdetach\u001b[49m\u001b[43m(\u001b[49m\u001b[43m)\u001b[49m\u001b[38;5;241;43m.\u001b[39;49m\u001b[43mcpu\u001b[49m\u001b[43m(\u001b[49m\u001b[43m)\u001b[49m\u001b[38;5;241m.\u001b[39mitem())\n\u001b[1;32m     47\u001b[0m epoch_loss\u001b[38;5;241m.\u001b[39mappend(loss\u001b[38;5;241m.\u001b[39mdetach()\u001b[38;5;241m.\u001b[39mcpu()\u001b[38;5;241m.\u001b[39mitem())\n\u001b[1;32m     49\u001b[0m writer\u001b[38;5;241m.\u001b[39madd_scalar(\u001b[38;5;124m\"\u001b[39m\u001b[38;5;124mTrain/loss_step\u001b[39m\u001b[38;5;124m\"\u001b[39m, train_loss_iter[\u001b[38;5;241m-\u001b[39m\u001b[38;5;241m1\u001b[39m], idx \u001b[38;5;241m+\u001b[39m epoch \u001b[38;5;241m*\u001b[39m \u001b[38;5;28mlen\u001b[39m(train_loader))\n",
      "\u001b[0;31mKeyboardInterrupt\u001b[0m: "
     ]
    }
   ],
   "source": [
    "train_loss_iter, train_loss_epoch, eval_iou, eval_acc, eval_loss = train(model, optimizer, train_loader, test_loader, writer, metric, device)"
   ]
  }
 ],
 "metadata": {
  "accelerator": "GPU",
  "colab": {
   "gpuType": "T4",
   "provenance": []
  },
  "kernelspec": {
   "display_name": "venv",
   "language": "python",
   "name": "python3"
  },
  "language_info": {
   "codemirror_mode": {
    "name": "ipython",
    "version": 3
   },
   "file_extension": ".py",
   "mimetype": "text/x-python",
   "name": "python",
   "nbconvert_exporter": "python",
   "pygments_lexer": "ipython3",
   "version": "3.12.3"
  }
 },
 "nbformat": 4,
 "nbformat_minor": 0
}
